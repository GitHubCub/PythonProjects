{
 "cells": [
  {
   "cell_type": "markdown",
   "metadata": {},
   "source": [
    "# Dice Roll Simulator"
   ]
  },
  {
   "cell_type": "code",
   "execution_count": 2,
   "metadata": {
    "collapsed": true
   },
   "outputs": [],
   "source": [
    "from random import randint"
   ]
  },
  {
   "cell_type": "code",
   "execution_count": 3,
   "metadata": {
    "collapsed": false
   },
   "outputs": [],
   "source": [
    "def dice_roll():\n",
    "    print randint(1,6)\n",
    "    ans = raw_input(\"Would you like to roll again? (y/n) \\n\")\n",
    "    while True:\n",
    "        if ans.lower()==\"y\":\n",
    "            return dice_roll()\n",
    "        elif ans.lower()==\"n\":\n",
    "            return \"Thanks for playing!\"\n",
    "        else:\n",
    "            print \"Sorry, I didn't get that, please type your answer again.\"\n",
    "            ans = raw_input(\"Would you like to roll again? (y/n) \\n\")"
   ]
  },
  {
   "cell_type": "code",
   "execution_count": 4,
   "metadata": {
    "collapsed": false
   },
   "outputs": [
    {
     "name": "stdout",
     "output_type": "stream",
     "text": [
      "1\n",
      "Would you like to roll again? (y/n) \n",
      "y\n",
      "5\n",
      "Would you like to roll again? (y/n) \n",
      "y\n",
      "5\n",
      "Would you like to roll again? (y/n) \n",
      "y\n",
      "4\n",
      "Would you like to roll again? (y/n) \n",
      "y\n",
      "1\n",
      "Would you like to roll again? (y/n) \n",
      "n\n"
     ]
    },
    {
     "data": {
      "text/plain": [
       "'Thanks for playing!'"
      ]
     },
     "execution_count": 4,
     "metadata": {},
     "output_type": "execute_result"
    }
   ],
   "source": [
    "dice_roll()"
   ]
  },
  {
   "cell_type": "code",
   "execution_count": null,
   "metadata": {
    "collapsed": true
   },
   "outputs": [],
   "source": [
    "# Guess The Number"
   ]
  },
  {
   "cell_type": "code",
   "execution_count": 5,
   "metadata": {
    "collapsed": true
   },
   "outputs": [],
   "source": [
    "def guess_int():\n",
    "    target = randint(0,100)\n",
    "    while True:\n",
    "        guess = raw_input(\"Guess an integer between 0 and 100! \\n\")\n",
    "        if int(guess) == target:\n",
    "            return \"Correct! You win!\"\n",
    "        elif int(guess) < target:\n",
    "            print \"You need to go higher...\"\n",
    "            more = raw_input(\"Would you like to take another guess? (y/n) \\n\")\n",
    "            while more.lower() != \"y\":\n",
    "                if more.lower()==\"n\":\n",
    "                    return \"Thanks for playing!\"\n",
    "                else:\n",
    "                    print \"Sorry, I didn't get that, please type your answer again.\"\n",
    "                    more = raw_input(\"Would you like to take another guess? (y/n) \\n\")\n",
    "        elif int(guess) > target:\n",
    "            print \"You need to go lower...\"\n",
    "            more = raw_input(\"Would you like to take another guess? (y/n) \\n\")\n",
    "            while more.lower() != \"y\":\n",
    "                if more.lower()==\"n\":\n",
    "                    return \"Thanks for playing!\"\n",
    "                else:\n",
    "                    print \"Sorry, I didn't get that, please type your answer again.\"\n",
    "                    more = raw_input(\"Would you like to take another guess? (y/n) \\n\")\n",
    "        else:\n",
    "            return \"You must enter an integer!\""
   ]
  },
  {
   "cell_type": "code",
   "execution_count": 6,
   "metadata": {
    "collapsed": false
   },
   "outputs": [
    {
     "name": "stdout",
     "output_type": "stream",
     "text": [
      "Guess an integer between 0 and 100! \n",
      "56\n",
      "You need to go higher...\n",
      "Would you like to take another guess? (y/n) \n",
      "y\n",
      "Guess an integer between 0 and 100! \n",
      "75\n",
      "You need to go lower...\n",
      "Would you like to take another guess? (y/n) \n",
      "y\n",
      "Guess an integer between 0 and 100! \n",
      "68\n",
      "You need to go lower...\n",
      "Would you like to take another guess? (y/n) \n",
      "y\n",
      "Guess an integer between 0 and 100! \n",
      "60\n",
      "You need to go higher...\n",
      "Would you like to take another guess? (y/n) \n",
      "y\n",
      "Guess an integer between 0 and 100! \n",
      "64\n",
      "You need to go lower...\n",
      "Would you like to take another guess? (y/n) \n",
      "y\n",
      "Guess an integer between 0 and 100! \n",
      "62\n",
      "You need to go higher...\n",
      "Would you like to take another guess? (y/n) \n",
      "y\n",
      "Guess an integer between 0 and 100! \n",
      "63\n"
     ]
    },
    {
     "data": {
      "text/plain": [
       "'Correct! You win!'"
      ]
     },
     "execution_count": 6,
     "metadata": {},
     "output_type": "execute_result"
    }
   ],
   "source": [
    "guess_int()"
   ]
  },
  {
   "cell_type": "markdown",
   "metadata": {},
   "source": [
    "# Mad Libs Generator"
   ]
  },
  {
   "cell_type": "code",
   "execution_count": 7,
   "metadata": {
    "collapsed": false
   },
   "outputs": [],
   "source": [
    "def mad_libs():\n",
    "    story_prior_noun = \"Once upon a time, there was a young \"\n",
    "    story_post_noun = \" named \"\n",
    "    story_prior_adj = \" who really loved dancing, pringles, trains and really \"\n",
    "    story_post_adj = \" penguins. \"\n",
    "    story_prior_verb = \"'s favourite activity to do along whith dancing, and often at the same time, is \"\n",
    "    story_post_verb = \" and can do it all day long. The End.\"\n",
    "    \n",
    "    noun_a = raw_input(\"Please enter a type of object (animal/person): \")\n",
    "    noun_b = raw_input(\"Please enter a name: \")\n",
    "    adj = raw_input(\"Please enter an adjective: \")\n",
    "    verb = raw_input(\"Please enter a verb: \")\n",
    "    \n",
    "    return story_prior_noun+noun_a+story_post_noun+noun_b+story_prior_adj+adj+story_post_adj+noun_b+story_prior_verb+verb+story_post_verb\n"
   ]
  },
  {
   "cell_type": "code",
   "execution_count": 8,
   "metadata": {
    "collapsed": false
   },
   "outputs": [
    {
     "name": "stdout",
     "output_type": "stream",
     "text": [
      "Please enter a type of object (animal/person): puppy\n",
      "Please enter a name: Puppup McPups\n",
      "Please enter an adjective: snuggily\n",
      "Please enter a verb: battle-rapping\n"
     ]
    },
    {
     "data": {
      "text/plain": [
       "\"Once upon a time, there was a young puppy named Puppup McPups who really loved dancing, pringles, trains and really snuggily penguins. Puppup McPups's favourite activity to do along whith dancing, and often at the same time, is battle-rapping and can do it all day long. The End.\""
      ]
     },
     "execution_count": 8,
     "metadata": {},
     "output_type": "execute_result"
    }
   ],
   "source": [
    "mad_libs()"
   ]
  },
  {
   "cell_type": "markdown",
   "metadata": {},
   "source": [
    "# Hangman"
   ]
  },
  {
   "cell_type": "code",
   "execution_count": 9,
   "metadata": {
    "collapsed": true
   },
   "outputs": [],
   "source": [
    "word_list = ['time', \n",
    "'year', \n",
    "'people', \n",
    "'way', \n",
    "'day', \n",
    "'man', \n",
    "'thing', \n",
    "'woman', \n",
    "'life', \n",
    "'child', \n",
    "'world', \n",
    "'school', \n",
    "'state', \n",
    "'family', \n",
    "'student', \n",
    "'group', \n",
    "'country', \n",
    "'problem', \n",
    "'hand', \n",
    "'part', \n",
    "'place', \n",
    "'case', \n",
    "'week', \n",
    "'company', \n",
    "'system', \n",
    "'program', \n",
    "'question', \n",
    "'work', \n",
    "'government', \n",
    "'number', \n",
    "'night', \n",
    "'point', \n",
    "'home', \n",
    "'water', \n",
    "'room', \n",
    "'mother', \n",
    "'area', \n",
    "'money', \n",
    "'story', \n",
    "'fact', \n",
    "'month', \n",
    "'lot', \n",
    "'right', \n",
    "'study', \n",
    "'book', \n",
    "'eye', \n",
    "'job', \n",
    "'word', \n",
    "'business', \n",
    "'issue', \n",
    "'side', \n",
    "'kind', \n",
    "'head', \n",
    "'house', \n",
    "'service', \n",
    "'friend', \n",
    "'father', \n",
    "'power', \n",
    "'hour', \n",
    "'game', \n",
    "'line', \n",
    "'end', \n",
    "'member', \n",
    "'law', \n",
    "'car', \n",
    "'city', \n",
    "'community', \n",
    "'name', \n",
    "'president', \n",
    "'team', \n",
    "'minute', \n",
    "'idea', \n",
    "'kid', \n",
    "'body', \n",
    "'information', \n",
    "'back', \n",
    "'parent', \n",
    "'face', \n",
    "'others', \n",
    "'level', \n",
    "'office', \n",
    "'door', \n",
    "'health', \n",
    "'person', \n",
    "'art', \n",
    "'war', \n",
    "'history', \n",
    "'party', \n",
    "'result', \n",
    "'change', \n",
    "'morning', \n",
    "'reason', \n",
    "'research', \n",
    "'girl', \n",
    "'guy', \n",
    "'moment', \n",
    "'air', \n",
    "'teacher', \n",
    "'force', \n",
    "'education', \n",
    "]\n",
    "\n",
    "def hangman():\n",
    "    word = word_list[randint(1,100)]\n",
    "    board = ['_']*len(word)\n",
    "    print board\n",
    "    goes = 0\n",
    "    while goes < 8:\n",
    "        guess = raw_input(\"Guess a letter! \\n\")\n",
    "        if len(guess) !=1 or not guess.isalpha():\n",
    "            print \" you must enter just one alphabetical letter!\"\n",
    "        else:\n",
    "            indexes=[]\n",
    "            for index, letter in enumerate(word):\n",
    "                if guess == letter:\n",
    "                    indexes.append(index)\n",
    "            for item in indexes:\n",
    "                board[item]=guess\n",
    "            print board\n",
    "            attempt = raw_input(\"Take a guess at the word! \\n\")\n",
    "            if attempt == word:\n",
    "                return \"Yes, the answer is %s! You win!\" % word\n",
    "            else:\n",
    "                print \"Sorry, that's not right.\"\n",
    "            goes = goes + 1\n",
    "    attempt = raw_input(\"You've run out of goes. Take a guess at the word! \\n\")\n",
    "    if attempt == word:\n",
    "        return \"Yes, the answer is %.! You win!\" % word\n",
    "    else:\n",
    "        return \"Sorry, that's not right, the word was %s. You lose!\" % word"
   ]
  },
  {
   "cell_type": "code",
   "execution_count": 10,
   "metadata": {
    "collapsed": false
   },
   "outputs": [
    {
     "name": "stdout",
     "output_type": "stream",
     "text": [
      "['_', '_', '_', '_']\n",
      "Guess a letter! \n",
      "i\n",
      "['_', '_', '_', '_']\n",
      "Take a guess at the word! \n",
      "carp\n",
      "Sorry, that's not right.\n",
      "Guess a letter! \n",
      "o\n",
      "['_', '_', '_', '_']\n",
      "Take a guess at the word! \n",
      "seat\n",
      "Sorry, that's not right.\n",
      "Guess a letter! \n",
      "u\n",
      "['_', '_', '_', '_']\n",
      "Take a guess at the word! \n",
      "leap\n",
      "Sorry, that's not right.\n",
      "Guess a letter! \n",
      "a\n",
      "['_', 'a', '_', '_']\n",
      "Take a guess at the word! \n",
      "pane\n",
      "Sorry, that's not right.\n",
      "Guess a letter! \n",
      "e\n",
      "['_', 'a', '_', '_']\n",
      "Take a guess at the word! \n",
      "tank\n",
      "Sorry, that's not right.\n",
      "Guess a letter! \n",
      "t\n",
      "['_', 'a', '_', '_']\n",
      "Take a guess at the word! \n",
      "bank\n",
      "Sorry, that's not right.\n",
      "Guess a letter! \n",
      "b\n",
      "['b', 'a', '_', '_']\n",
      "Take a guess at the word! \n",
      "ball\n",
      "Sorry, that's not right.\n",
      "Guess a letter! \n",
      "s\n",
      "['b', 'a', '_', '_']\n",
      "Take a guess at the word! \n",
      "band\n",
      "Sorry, that's not right.\n",
      "You've run out of goes. Take a guess at the word! \n",
      "bark\n"
     ]
    },
    {
     "data": {
      "text/plain": [
       "\"Sorry, that's not right, the word was back. You lose!\""
      ]
     },
     "execution_count": 10,
     "metadata": {},
     "output_type": "execute_result"
    }
   ],
   "source": [
    "hangman()"
   ]
  },
  {
   "cell_type": "markdown",
   "metadata": {},
   "source": [
    "# Textbased Adventure Game"
   ]
  },
  {
   "cell_type": "code",
   "execution_count": null,
   "metadata": {
    "collapsed": true
   },
   "outputs": [],
   "source": [
    "\"\"\"The Goal: Remember Adventure? Well, we’re going to build a more basic version of that. A complete text game, the program will\n",
    "let users move through rooms based on user input and get descriptions of each room. To create this, you’ll need to establish the\n",
    "directions in which the user can move, a way to track how far the user has moved (and therefore which room he/she is in), and to\n",
    "print out a description. You’ll also need to set limits for how far the user can move. In other words, create “walls” around the\n",
    "rooms that tell the user, 'You can’t move further in this direction.' \"\"\""
   ]
  },
  {
   "cell_type": "code",
   "execution_count": 11,
   "metadata": {
    "collapsed": true
   },
   "outputs": [],
   "source": [
    "#imagine a 2x3 grid\n",
    "#bedroom1 bathroom bedroom2\n",
    "#livingRoom Porch Kitchen\n",
    "#index this with coordinates [1,1] to [2,3]\n",
    "#All users start in the porch, which leads to either the living room or kitchen or bathroom\n",
    "#both bedrooms lead to the bathroom\n",
    "#the livingroom leads to bedroom1 and the kitchen leads to bedroom2\n",
    "\n",
    "def ad_house():\n",
    "    house_desc = {\"Living room\": \" has a tv and a grey sofa\", \"Porch\":\" has a shoe rack and an ottoman\",\n",
    "                  \"Kitchen\":\" has grey work-tops and white units\", \"Bathroom\":\" has beige stone walls and a bath with a shower\",\n",
    "                 \"First Bedroom\": \" has a double bed\", \"Second Bedroom\": \" has a kingsize bed\", \"The outside\":\"You left the house.\"}\n",
    "    house_plan = {\"[1,1]\":\"Living room\", \"[1,2]\":\"Porch\", \"[1,3]\":\"Kitchen\",\"[2,1]\":\"First Bedroom\", \"[2,2]\":\"Bathroom\",\n",
    "                  \"[2,3]\":\"Second Bedroom\", \"[0,2]\":\"The outside\"}\n",
    "    position = [1,2]\n",
    "    while True:\n",
    "        print \"The \"+house_plan[\"[\"+str(position[0])+\",\"+str(position[1])+\"]\"]+house_desc[house_plan[\"[\"+str(position[0])+\",\"+str(position[1])+\"]\"]]\n",
    "        escape = raw_input(\"If you must leave now, please type 'Beam me up Scottie'. To stay enter anything else. \\n\")\n",
    "        if escape.lower() == \"beam me up scottie\":\n",
    "            return \"Beaming you up. Good bye!\"\n",
    "        else:\n",
    "            print \"Let's keep exploring!\"\n",
    "        step = raw_input(\"Enter your step direction (f/b/l/r) \\n\")\n",
    "        if step.lower() == \"f\":\n",
    "            if position[0] == 2:\n",
    "                print \"You can't move in this direction, please choose a different step.\"\n",
    "            else:\n",
    "                position[0] = position[0]+1\n",
    "        elif step.lower() == \"b\":\n",
    "            if (position[0]==1 and position[1] != 2):\n",
    "                print \"You can't move in this direction, please choose a different step.\"\n",
    "            else:\n",
    "                position[0] = position[0]-1\n",
    "                if position == [0,2]:\n",
    "                    print house_desc[house_plan[\"[0,2]\"]]\n",
    "                    return \"Leaving the house ends the game. Good bye.\"\n",
    "        elif step.lower() == \"l\":\n",
    "            if position[1]==1:\n",
    "                print \"You can't move in this direction, please choose a different step.\"\n",
    "            else:\n",
    "                position[1] = position[1]-1\n",
    "        elif step.lower() == \"r\":\n",
    "            if position[1]==3:\n",
    "                print \"You can't move in this direction, please choose a different step.\"\n",
    "            else:\n",
    "                position[1] = position[1]+1\n",
    "        else:\n",
    "            print \"You entered something which isn't a valid step. Please enter f/b/l/r.\""
   ]
  },
  {
   "cell_type": "code",
   "execution_count": 12,
   "metadata": {
    "collapsed": false
   },
   "outputs": [
    {
     "name": "stdout",
     "output_type": "stream",
     "text": [
      "The Porch has a shoe rack and an ottoman\n",
      "If you must leave now, please type 'Beam me up Scottie'. To stay enter anything else. \n",
      "nah\n",
      "Let's keep exploring!\n",
      "Enter your step direction (f/b/l/r) \n",
      "f\n",
      "The Bathroom has beige stone walls and a bath with a shower\n",
      "If you must leave now, please type 'Beam me up Scottie'. To stay enter anything else. \n",
      "not yet\n",
      "Let's keep exploring!\n",
      "Enter your step direction (f/b/l/r) \n",
      "r\n",
      "The Second Bedroom has a kingsize bed\n",
      "If you must leave now, please type 'Beam me up Scottie'. To stay enter anything else. \n",
      "nope\n",
      "Let's keep exploring!\n",
      "Enter your step direction (f/b/l/r) \n",
      "b\n",
      "The Kitchen has grey work-tops and white units\n",
      "If you must leave now, please type 'Beam me up Scottie'. To stay enter anything else. \n",
      "nope\n",
      "Let's keep exploring!\n",
      "Enter your step direction (f/b/l/r) \n",
      "l\n",
      "The Porch has a shoe rack and an ottoman\n",
      "If you must leave now, please type 'Beam me up Scottie'. To stay enter anything else. \n",
      "note yet\n",
      "Let's keep exploring!\n",
      "Enter your step direction (f/b/l/r) \n",
      "l\n",
      "The Living room has a tv and a grey sofa\n",
      "If you must leave now, please type 'Beam me up Scottie'. To stay enter anything else. \n",
      "not yet\n",
      "Let's keep exploring!\n",
      "Enter your step direction (f/b/l/r) \n",
      "f\n",
      "The First Bedroom has a double bed\n",
      "If you must leave now, please type 'Beam me up Scottie'. To stay enter anything else. \n",
      "nope\n",
      "Let's keep exploring!\n",
      "Enter your step direction (f/b/l/r) \n",
      "r\n",
      "The Bathroom has beige stone walls and a bath with a shower\n",
      "If you must leave now, please type 'Beam me up Scottie'. To stay enter anything else. \n",
      "n\n",
      "Let's keep exploring!\n",
      "Enter your step direction (f/b/l/r) \n",
      "b\n",
      "The Porch has a shoe rack and an ottoman\n",
      "If you must leave now, please type 'Beam me up Scottie'. To stay enter anything else. \n",
      "n\n",
      "Let's keep exploring!\n",
      "Enter your step direction (f/b/l/r) \n",
      "b\n",
      "You left the house.\n"
     ]
    },
    {
     "data": {
      "text/plain": [
       "'Leaving the house ends the game. Good bye.'"
      ]
     },
     "execution_count": 12,
     "metadata": {},
     "output_type": "execute_result"
    }
   ],
   "source": [
    "ad_house()"
   ]
  }
 ],
 "metadata": {
  "kernelspec": {
   "display_name": "Python 2",
   "language": "python",
   "name": "python2"
  },
  "language_info": {
   "codemirror_mode": {
    "name": "ipython",
    "version": 2
   },
   "file_extension": ".py",
   "mimetype": "text/x-python",
   "name": "python",
   "nbconvert_exporter": "python",
   "pygments_lexer": "ipython2",
   "version": "2.7.11"
  }
 },
 "nbformat": 4,
 "nbformat_minor": 0
}
