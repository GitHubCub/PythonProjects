{
 "cells": [
  {
   "cell_type": "markdown",
   "metadata": {},
   "source": [
    "# Wikipedia Definitions"
   ]
  },
  {
   "cell_type": "code",
   "execution_count": 18,
   "metadata": {
    "collapsed": false
   },
   "outputs": [
    {
     "name": "stdout",
     "output_type": "stream",
     "text": [
      "What would you like to know about? (Please enter underscores instead of spaces) \n",
      "cuddle\n",
      "\n",
      "A hug is a form of physical intimacy, universal in human communities, in which two people put their arms around the neck, back, or waist of one another and hold each other closely. If more than two persons are involved, this is informally referred to as a group hug.\n"
     ]
    }
   ],
   "source": [
    "import urllib\n",
    "\n",
    "search_term = raw_input(\"What would you like to learn about? (Please enter underscores instead of spaces) \\n\")\n",
    "search_url = \"https://en.wikipedia.org/wiki/\"+search_term\n",
    "\n",
    "get_wiki = urllib.urlopen(search_url)\n",
    "wiki_text = get_wiki.read()\n",
    "get_wiki.close()\n",
    "\n",
    "start_index = wiki_text.find(\"<p>\")\n",
    "end_index = wiki_text.find(\"</p>\")\n",
    "\n",
    "trimmed = wiki_text[start_index:end_index]\n",
    "\n",
    "def text_extraction(txt):\n",
    "    extract = \"\"\n",
    "    i=0\n",
    "    j=0\n",
    "    while i != -1:\n",
    "        i = txt.find(\"<\",j)\n",
    "        j = txt.find(\">\",i)\n",
    "        if j == -1 or j == len(txt)-1:\n",
    "            break\n",
    "        if not txt[j+1] == \"<\":\n",
    "            extract = extract+txt[j+1:txt.find(\"<\",j+1)]\n",
    "    if txt[-1] == \".\":\n",
    "        extract = extract+txt[(txt.rfind(\">\"))+1:]\n",
    "    return extract        \n",
    "\n",
    "print \"\\n\"+text_extraction(trimmed)"
   ]
  },
  {
   "cell_type": "code",
   "execution_count": null,
   "metadata": {
    "collapsed": true
   },
   "outputs": [],
   "source": []
  }
 ],
 "metadata": {
  "kernelspec": {
   "display_name": "Python 2",
   "language": "python",
   "name": "python2"
  },
  "language_info": {
   "codemirror_mode": {
    "name": "ipython",
    "version": 2
   },
   "file_extension": ".py",
   "mimetype": "text/x-python",
   "name": "python",
   "nbconvert_exporter": "python",
   "pygments_lexer": "ipython2",
   "version": "2.7.11"
  }
 },
 "nbformat": 4,
 "nbformat_minor": 0
}
