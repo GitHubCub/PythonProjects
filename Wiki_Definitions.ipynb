{
 "cells": [
  {
   "cell_type": "markdown",
   "metadata": {},
   "source": [
    "# Wikipedia Definitions"
   ]
  },
  {
   "cell_type": "code",
   "execution_count": null,
   "metadata": {
    "collapsed": true
   },
   "outputs": [],
   "source": [
    "import urllib\n",
    "\n",
    "search_term = raw_input(\"What would you like to know about? (Please enter underscores instead of spaces) \\n\")\n",
    "search_url = \"https://en.wikipedia.org/wiki/\"+search_term\n",
    "\n",
    "get_wiki = urllib.urlopen(search_url)\n",
    "wiki_text = get_wiki.read()\n",
    "get_wiki.close()\n",
    "\n",
    "start_index = wiki_text.find(\"<p>\")\n",
    "end_index = wiki_text.find(\"</p>\")\n",
    "\n",
    "trimmed = wiki_text[start_index:end_index]\n",
    "\n",
    "def text_extraction(txt):\n",
    "    extract = \"\"\n",
    "    i=0\n",
    "    j=0\n",
    "    while i != -1:\n",
    "        i = txt.find(\"<\",j)\n",
    "        j = txt.find(\">\",i)\n",
    "        if not txt[j+1] == \"<\":\n",
    "            extract = extract+txt[j+1:txt.find(\"<\",j+1)]\n",
    "    if txt[-1] == \".\":\n",
    "        extract = extract+txt[(txt.rfind(\">\"))+1:]\n",
    "    return extract        \n",
    "\n",
    "print text_extraction(trimmed)"
   ]
  }
 ],
 "metadata": {
  "kernelspec": {
   "display_name": "Python 2",
   "language": "python",
   "name": "python2"
  },
  "language_info": {
   "codemirror_mode": {
    "name": "ipython",
    "version": 2
   },
   "file_extension": ".py",
   "mimetype": "text/x-python",
   "name": "python",
   "nbconvert_exporter": "python",
   "pygments_lexer": "ipython2",
   "version": "2.7.11"
  }
 },
 "nbformat": 4,
 "nbformat_minor": 0
}
